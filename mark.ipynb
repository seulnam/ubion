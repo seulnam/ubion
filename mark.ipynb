{
 "cells": [
  {
   "cell_type": "markdown",
   "metadata": {},
   "source": [
    "제목1\n",
    "=\n",
    "\n",
    "부제목\n",
    "-"
   ]
  },
  {
   "cell_type": "markdown",
   "metadata": {},
   "source": [
    "# 샾 1개\n",
    "\n",
    "## 샾 2개\n",
    "\n",
    "### 샾 3개\n",
    "\n",
    "#### 샾 4개\n",
    "\n",
    "##### 샾 5개\n",
    "\n",
    "###### 샾6개"
   ]
  },
  {
   "cell_type": "markdown",
   "metadata": {},
   "source": [
    "> content1 (꺽쇠 >) \n",
    ">   > content2\n",
    ">   >   > content3"
   ]
  },
  {
   "cell_type": "markdown",
   "metadata": {},
   "source": [
    "## list(순서있음)\n",
    "\n",
    "1. 첫번째\n",
    "2. 두번째\n",
    "3. 세번째"
   ]
  },
  {
   "cell_type": "markdown",
   "metadata": {},
   "source": [
    "## list(순서없음)\n",
    "\n",
    "* 리스트1\n",
    "    + 서브리스트1(Tab키를 누르면)\n",
    "        * 서브리스트2"
   ]
  },
  {
   "cell_type": "markdown",
   "metadata": {},
   "source": [
    "### code\n",
    "\n",
    "``` python\n",
    "i = 0\n",
    "```\n",
    "\n",
    "code end"
   ]
  },
  {
   "cell_type": "markdown",
   "metadata": {},
   "source": [
    "-----------------------------------------"
   ]
  },
  {
   "cell_type": "markdown",
   "metadata": {},
   "source": [
    "****************************************************"
   ]
  },
  {
   "cell_type": "markdown",
   "metadata": {},
   "source": [
    "[Google][googlelink]\n",
    "\n",
    "[googlelink]: http://www.google.com"
   ]
  },
  {
   "cell_type": "markdown",
   "metadata": {},
   "source": [
    "![Alt text](\"이미지주소\")\n",
    "\n",
    "<img src=\"이미지주소\" width=\"80%\">"
   ]
  },
  {
   "cell_type": "markdown",
   "metadata": {},
   "source": [
    "| Tables   |      Are      |  Cool |\n",
    "|----------|:-------------:|------:|\n",
    "| col 1 is |  left-aligned | $1600 |\n",
    "| col 2 is |    centered   |   $12 |\n",
    "| col 3 is | right-aligned |    $1 |\n",
    "    "
   ]
  }
 ],
 "metadata": {
  "interpreter": {
   "hash": "c43cc35bf10d47ee272d24c9e8f3a3c68ece12bba4bc202b3d531e99134b684d"
  },
  "kernelspec": {
   "display_name": "Python 3.10.2 64-bit",
   "language": "python",
   "name": "python3"
  },
  "language_info": {
   "codemirror_mode": {
    "name": "ipython",
    "version": 3
   },
   "file_extension": ".py",
   "mimetype": "text/x-python",
   "name": "python",
   "nbconvert_exporter": "python",
   "pygments_lexer": "ipython3",
   "version": "3.10.2"
  },
  "orig_nbformat": 4
 },
 "nbformat": 4,
 "nbformat_minor": 2
}
