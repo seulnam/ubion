{
 "cells": [
  {
   "cell_type": "markdown",
   "metadata": {},
   "source": [
    "제목1\n",
    "=\n",
    "\n",
    "부제목\n",
    "-"
   ]
  },
  {
   "cell_type": "markdown",
   "metadata": {},
   "source": [
    "# 샾 1개\n",
    "\n",
    "## 샾 2개\n",
    "\n",
    "### 샾 3개\n",
    "\n",
    "#### 샾 4개\n",
    "\n",
    "##### 샾 5개\n",
    "\n",
    "###### 샾6개"
   ]
  },
  {
   "cell_type": "markdown",
   "metadata": {},
   "source": [
    "> content1 (꺽쇠 >) \n",
    ">   > content2\n",
    ">   >   > content3"
   ]
  },
  {
   "cell_type": "markdown",
   "metadata": {},
   "source": [
    "## list(순서있음)\n",
    "\n",
    "1. 첫번째\n",
    "2. 두번째\n",
    "3. 세번째"
   ]
  },
  {
   "cell_type": "markdown",
   "metadata": {},
   "source": [
    "## list(순서없음)\n",
    "\n",
    "* 리스트1\n",
    "    + 서브리스트1(Tab키를 누르면)\n",
    "        * 서브리스트2"
   ]
  },
  {
   "cell_type": "markdown",
   "metadata": {},
   "source": [
    "### code\n",
    "\n",
    "``` python\n",
    "i = 0\n",
    "```\n",
    "\n",
    "code end"
   ]
  },
  {
   "cell_type": "markdown",
   "metadata": {},
   "source": [
    "-----------------------------------------"
   ]
  },
  {
   "cell_type": "markdown",
   "metadata": {},
   "source": [
    "****************************************************"
   ]
  },
  {
   "cell_type": "markdown",
   "metadata": {},
   "source": [
    "[Google][googlelink]\n",
    "\n",
    "[googlelink]: http://www.google.com"
   ]
  },
  {
   "cell_type": "markdown",
   "metadata": {},
   "source": [
    "![Alt text](data:image/jpeg;base64,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)"
   ]
  },
  {
   "cell_type": "markdown",
   "metadata": {},
   "source": [
    "![Alt text](https://encrypted-tbn0.gstatic.com/images?q=tbn:ANd9GcRmcZsex8B0hICqd76dYIylm9lhofhxvI87JQ&usqp=CAU)"
   ]
  },
  {
   "cell_type": "markdown",
   "metadata": {},
   "source": [
    "<img src=\"https://encrypted-tbn0.gstatic.com/images?q=tbn:ANd9GcRmcZsex8B0hICqd76dYIylm9lhofhxvI87JQ&usqp=CAU\" width=\"80%\">"
   ]
  }
 ],
 "metadata": {
  "interpreter": {
   "hash": "c43cc35bf10d47ee272d24c9e8f3a3c68ece12bba4bc202b3d531e99134b684d"
  },
  "kernelspec": {
   "display_name": "Python 3.10.2 64-bit",
   "language": "python",
   "name": "python3"
  },
  "language_info": {
   "codemirror_mode": {
    "name": "ipython",
    "version": 3
   },
   "file_extension": ".py",
   "mimetype": "text/x-python",
   "name": "python",
   "nbconvert_exporter": "python",
   "pygments_lexer": "ipython3",
   "version": "3.10.2"
  },
  "orig_nbformat": 4
 },
 "nbformat": 4,
 "nbformat_minor": 2
}
